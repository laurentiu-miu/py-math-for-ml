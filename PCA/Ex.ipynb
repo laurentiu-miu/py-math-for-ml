{
 "cells": [
  {
   "cell_type": "code",
   "execution_count": 1,
   "metadata": {},
   "outputs": [
    {
     "data": {
      "text/plain": [
       "3.605551275463989"
      ]
     },
     "execution_count": 1,
     "metadata": {},
     "output_type": "execute_result"
    }
   ],
   "source": [
    "import numpy as np\n",
    "import math\n",
    "pointA = np.array((3,4))\n",
    "pointB = np.array((1,1))\n",
    "np.linalg.norm(pointA - pointB)"
   ]
  },
  {
   "cell_type": "code",
   "execution_count": 31,
   "metadata": {},
   "outputs": [
    {
     "name": "stdout",
     "output_type": "stream",
     "text": [
      "7.0710678118654755 -7\n",
      "-0.9899494936611665\n",
      "2.9996955989856287\n"
     ]
    }
   ],
   "source": [
    "# ex 2\n",
    "x = np.array((3,4))\n",
    "y = np.array((-1,-1))\n",
    "imp = np.sqrt(x.T @ x * y.T @ y)\n",
    "deimp = x.T @ y\n",
    "print(imp,deimp)\n",
    "r = deimp/imp\n",
    "#dot_p = np.dot(x,y)\n",
    "print(r)\n",
    "print(np.arccos(r))"
   ]
  },
  {
   "cell_type": "code",
   "execution_count": 1,
   "metadata": {},
   "outputs": [
    {
     "name": "stdout",
     "output_type": "stream",
     "text": [
      "0.0\n",
      "90.0\n",
      "180.0\n",
      "270.0\n",
      "360.0\n"
     ]
    }
   ],
   "source": [
    "print(math.degrees(0))                       #0 radians == 0 degrees\n",
    "print(math.degrees(math.pi/2))               #pi/2 radians is 90 degrees\n",
    "print(math.degrees(math.pi))                 #pi radians is 180 degrees\n",
    "print(math.degrees(math.pi+(math.pi/2)))     #pi+pi/2 radians is 270 degrees\n",
    "print(math.degrees(math.pi+math.pi))         #2*pi radians is 360 degrees"
   ]
  },
  {
   "cell_type": "code",
   "execution_count": 2,
   "metadata": {},
   "outputs": [
    {
     "name": "stdout",
     "output_type": "stream",
     "text": [
      "0.0\n",
      "1.5707963267948966\n",
      "3.141592653589793\n",
      "4.71238898038469\n",
      "6.283185307179586\n"
     ]
    }
   ],
   "source": [
    "print(math.radians(0))           #0 degrees == 0 radians\n",
    "print(math.radians(90))          #90 degrees is pi/2 radians\n",
    "print(math.radians(180))         #180 degrees is pi radians\n",
    "print(math.radians(270))        #270 degrees is pi+(pi/2) radians\n",
    "print(math.radians(360))         #360 degrees is 2*pi radians"
   ]
  },
  {
   "cell_type": "code",
   "execution_count": 18,
   "metadata": {},
   "outputs": [
    {
     "data": {
      "text/plain": [
       "-1.0101525445522108"
      ]
     },
     "execution_count": 18,
     "metadata": {},
     "output_type": "execute_result"
    }
   ],
   "source": [
    "r"
   ]
  },
  {
   "cell_type": "code",
   "execution_count": 24,
   "metadata": {},
   "outputs": [
    {
     "data": {
      "text/plain": [
       "0.6435011087932843"
      ]
     },
     "execution_count": 24,
     "metadata": {},
     "output_type": "execute_result"
    }
   ],
   "source": [
    "np.arccos(4/5)"
   ]
  },
  {
   "cell_type": "code",
   "execution_count": 20,
   "metadata": {},
   "outputs": [
    {
     "name": "stderr",
     "output_type": "stream",
     "text": [
      "/anaconda3/lib/python3.6/site-packages/ipykernel_launcher.py:1: RuntimeWarning: invalid value encountered in arccos\n",
      "  \"\"\"Entry point for launching an IPython kernel.\n"
     ]
    },
    {
     "data": {
      "text/plain": [
       "nan"
      ]
     },
     "execution_count": 20,
     "metadata": {},
     "output_type": "execute_result"
    }
   ],
   "source": [
    "np.arccos(r)"
   ]
  },
  {
   "cell_type": "code",
   "execution_count": 22,
   "metadata": {},
   "outputs": [
    {
     "name": "stdout",
     "output_type": "stream",
     "text": [
      "[2 3]\n",
      "3.605551275463989\n"
     ]
    }
   ],
   "source": [
    "#ex 3\n",
    "x = np.array((3,4))\n",
    "y = np.array((1,1))\n",
    "z = x - y\n",
    "print(z)\n",
    "distance = np.sqrt(z.T @ z)\n",
    "print(distance)"
   ]
  },
  {
   "cell_type": "code",
   "execution_count": 34,
   "metadata": {},
   "outputs": [
    {
     "name": "stdout",
     "output_type": "stream",
     "text": [
      "21.494185260204677 -9\n",
      "-0.41871789467931186\n",
      "2.002829357226812\n"
     ]
    }
   ],
   "source": [
    "#ex 5\n",
    "x = np.array((1,2,3))\n",
    "y = np.array((-1,0,8))\n",
    "z = x - y\n",
    "imp = np.sqrt(x.T @ x * z.T @ z)\n",
    "deimp = x.T @ z\n",
    "print(imp,deimp)\n",
    "r = deimp/imp\n",
    "print(r)\n",
    "print(np.arccos(r))"
   ]
  },
  {
   "cell_type": "code",
   "execution_count": 35,
   "metadata": {},
   "outputs": [
    {
     "name": "stdout",
     "output_type": "stream",
     "text": [
      "0\n"
     ]
    }
   ],
   "source": [
    "a = np.array([1,0])\n",
    "b = np.array([0,1])\n",
    "I = np.array([[1,0],[0,1]])\n",
    "print(a.T@I@b)"
   ]
  },
  {
   "cell_type": "code",
   "execution_count": 36,
   "metadata": {},
   "outputs": [
    {
     "name": "stdout",
     "output_type": "stream",
     "text": [
      "1.0\n"
     ]
    }
   ],
   "source": [
    "a = np.array([1,1])\n",
    "I = np.array([[1,-0.5],[-0.5,1]])\n",
    "print(a.T@I@a)"
   ]
  },
  {
   "cell_type": "code",
   "execution_count": 37,
   "metadata": {},
   "outputs": [
    {
     "name": "stdout",
     "output_type": "stream",
     "text": [
      "26\n"
     ]
    }
   ],
   "source": [
    "a = np.array([1,-1,3])\n",
    "I = np.array([[2,1,0],[1,2,-1],[0,-1,2]])\n",
    "print(a.T@I@a)"
   ]
  },
  {
   "cell_type": "code",
   "execution_count": 39,
   "metadata": {},
   "outputs": [
    {
     "name": "stdout",
     "output_type": "stream",
     "text": [
      "5.0\n"
     ]
    }
   ],
   "source": [
    "a = np.array([1/2,-1,-1/2])\n",
    "b = np.array([0,1,0])\n",
    "I = np.array([[2,1,0],[1,2,-1],[0,-1,2]])\n",
    "z=a-b\n",
    "print(z.T@I@z)"
   ]
  },
  {
   "cell_type": "code",
   "execution_count": 42,
   "metadata": {},
   "outputs": [
    {
     "name": "stdout",
     "output_type": "stream",
     "text": [
      "12\n"
     ]
    }
   ],
   "source": [
    "a = np.array([-1,1])\n",
    "I = np.array([[5,-1],[-1,5]])\n",
    "print(a.T@I@a)"
   ]
  },
  {
   "cell_type": "code",
   "execution_count": 47,
   "metadata": {},
   "outputs": [
    {
     "name": "stdout",
     "output_type": "stream",
     "text": [
      "2.6457513110645907\n"
     ]
    }
   ],
   "source": [
    "a = np.array([4,2,1])\n",
    "b = np.array([0,1,0])\n",
    "I = np.array([[2,1,0],[1,2,-1],[0,-1,2]])\n",
    "print(np.sqrt(a.T@I@b))"
   ]
  },
  {
   "cell_type": "code",
   "execution_count": 44,
   "metadata": {},
   "outputs": [
    {
     "name": "stdout",
     "output_type": "stream",
     "text": [
      "3\n"
     ]
    }
   ],
   "source": [
    "a = np.array([-1,-1,-1])\n",
    "I = np.array([[1,0,0],[0,1,0],[0,0,1]])\n",
    "print(a.T@I@a)"
   ]
  },
  {
   "cell_type": "code",
   "execution_count": 52,
   "metadata": {},
   "outputs": [
    {
     "name": "stdout",
     "output_type": "stream",
     "text": [
      "1.8234765819369751\n"
     ]
    }
   ],
   "source": [
    " \n",
    "a = np.array([1,1])\n",
    "b = np.array([-1,1])\n",
    "I = np.array([[2,0],[0,1]])\n",
    "v = a.T@I@b\n",
    "d = (a.T@a)*(b.T@b)\n",
    "print(np.arccos(v/d))"
   ]
  },
  {
   "cell_type": "code",
   "execution_count": 75,
   "metadata": {},
   "outputs": [
    {
     "name": "stdout",
     "output_type": "stream",
     "text": [
      "1.0\n",
      "0.0\n"
     ]
    }
   ],
   "source": [
    "a = np.array([1,1])\n",
    "b = np.array([-1,1])\n",
    "I = np.array([[2,-1],[-1,4]])\n",
    "v = a.T@I@b\n",
    "d = np.sqrt((a.T@a)*(b.T@b))\n",
    "print(v/d)\n",
    "print(np.arccos(v/d))"
   ]
  },
  {
   "cell_type": "code",
   "execution_count": 90,
   "metadata": {},
   "outputs": [
    {
     "name": "stdout",
     "output_type": "stream",
     "text": [
      "8\n",
      "-12.0\n"
     ]
    }
   ],
   "source": [
    "x = np.array([2,3])\n",
    "y = np.array([4,1])\n",
    "z = x-y\n",
    "dot = z.T@z\n",
    "print(dot)\n",
    "w = y-x\n",
    "A = np.array([[1,-1/2],[-1/2,1]])\n",
    "#dot = x.T@A@y\n",
    "dot = (z.T@A@w)\n",
    "print(dot)"
   ]
  },
  {
   "cell_type": "markdown",
   "metadata": {},
   "source": [
    "### Quiz - Angles between vectors using a non-standard inner product"
   ]
  },
  {
   "cell_type": "code",
   "execution_count": 107,
   "metadata": {},
   "outputs": [
    {
     "name": "stdout",
     "output_type": "stream",
     "text": [
      "1.2094292028881888\n"
     ]
    }
   ],
   "source": [
    "#Ex 1\n",
    "x = np.array([1,1])\n",
    "y = np.array([-1,1])\n",
    "A = np.array([[2,-1],[-1,4]])\n",
    "dot = (x.T@A@y)\n",
    "d = np.sqrt((x.T@A@x)*(y.T@A@y))\n",
    "print(np.arccos(dot/d))"
   ]
  },
  {
   "cell_type": "code",
   "execution_count": 115,
   "metadata": {},
   "outputs": [
    {
     "name": "stdout",
     "output_type": "stream",
     "text": [
      "2.6905658417935308\n"
     ]
    }
   ],
   "source": [
    "#Ex 2\n",
    "x = np.array([0,-1])\n",
    "y = np.array([1,1])\n",
    "A = np.array([[1,-1/2],[-1/2,5]])\n",
    "dot = (x.T@A@y)\n",
    "d = np.sqrt((x.T@A@x)*(y.T@A@y))\n",
    "print(np.arccos(dot/d))"
   ]
  },
  {
   "cell_type": "code",
   "execution_count": 116,
   "metadata": {},
   "outputs": [
    {
     "name": "stdout",
     "output_type": "stream",
     "text": [
      "3.141592653589793\n"
     ]
    }
   ],
   "source": [
    "#EX 3\n",
    "x = np.array([2,2])\n",
    "y = np.array([-2,-2])\n",
    "A = np.array([[2,1],[1,4]])\n",
    "dot = (x.T@A@y)\n",
    "d = np.sqrt((x.T@A@x)*(y.T@A@y))\n",
    "print(np.arccos(dot/d))"
   ]
  },
  {
   "cell_type": "code",
   "execution_count": 113,
   "metadata": {},
   "outputs": [
    {
     "name": "stdout",
     "output_type": "stream",
     "text": [
      "2.300523983021863\n"
     ]
    }
   ],
   "source": [
    "#Ex 4\n",
    "x = np.array([1,1])\n",
    "y = np.array([1,-1])\n",
    "A = np.array([[1,0],[0,5]])\n",
    "dot = (x.T@A@y)\n",
    "d = np.sqrt((x.T@A@x)*(y.T@A@y))\n",
    "print(np.arccos(dot/d))"
   ]
  },
  {
   "cell_type": "code",
   "execution_count": 112,
   "metadata": {},
   "outputs": [
    {
     "name": "stdout",
     "output_type": "stream",
     "text": [
      "1.3652273956337226\n"
     ]
    }
   ],
   "source": [
    "#Ex 5\n",
    "x = np.array([1,1,1])\n",
    "y = np.array([2,-1,0])\n",
    "A = np.array([[1,0,0],[0,2,-1],[0,-1,3]])\n",
    "dot = (x.T@A@y)\n",
    "d = np.sqrt((x.T@A@x)*(y.T@A@y))\n",
    "print(np.arccos(dot/d))"
   ]
  },
  {
   "cell_type": "markdown",
   "metadata": {},
   "source": [
    "## Week 3"
   ]
  },
  {
   "cell_type": "code",
   "execution_count": 58,
   "metadata": {},
   "outputs": [
    {
     "name": "stdout",
     "output_type": "stream",
     "text": [
      "[[1 2 2]\n",
      " [2 4 4]\n",
      " [2 4 4]]\n",
      "9\n"
     ]
    }
   ],
   "source": [
    "# ex1\n",
    "b = np.array([1,2,2])\n",
    "print(np.outer(b, b))\n",
    "print(b@b.T)"
   ]
  },
  {
   "cell_type": "code",
   "execution_count": 60,
   "metadata": {},
   "outputs": [
    {
     "name": "stdout",
     "output_type": "stream",
     "text": [
      "[ 9  0 16]\n",
      "[21.  0. 28.]\n"
     ]
    }
   ],
   "source": [
    "#ex2\n",
    "pi_x = np.array([1,1,1])\n",
    "b = np.array([3,0,4])\n",
    "x = pi_x*b.T*b.T\n",
    "print(x)\n",
    "pi_x2=1/13*np.outer(x,b).T@b\n",
    "print(pi_x2)\n",
    "# pi_x2 * ||b||**2=b.T@b"
   ]
  },
  {
   "cell_type": "markdown",
   "metadata": {},
   "source": [
    "3) Now, we compute the reconstruction error, i.e., the distance between the original data point and its projection onto a lower-dimensional subspace.\n",
    "Assume our original data point is [1,1,1] and its projection is 1/9 [5,10,10].\n",
    "What is the reconstruction error?"
   ]
  },
  {
   "cell_type": "code",
   "execution_count": 2,
   "metadata": {},
   "outputs": [
    {
     "data": {
      "text/plain": [
       "0.4714045207910317"
      ]
     },
     "execution_count": 2,
     "metadata": {},
     "output_type": "execute_result"
    }
   ],
   "source": [
    "x = np.array([1,1,1])\n",
    "y = np.array([5,10,10])\n",
    "z = x-1/9*y\n",
    "distance = np.sqrt(z.T@z)\n",
    "distance"
   ]
  },
  {
   "cell_type": "markdown",
   "metadata": {},
   "source": [
    "### Project 3D data onto a 2D subspace"
   ]
  },
  {
   "cell_type": "code",
   "execution_count": 98,
   "metadata": {},
   "outputs": [
    {
     "name": "stdout",
     "output_type": "stream",
     "text": [
      "lambda [ 5. -3.]\n",
      "pi_u_x is: [ 5.  2. -1.]\n",
      "projection matrix is:1/6* [[ 5.  2. -1.]\n",
      " [ 2.  2.  2.]\n",
      " [-1.  2.  5.]]\n"
     ]
    }
   ],
   "source": [
    "#ex1\n",
    "from numpy.linalg import inv\n",
    "x = np.array([6,0,0])\n",
    "b1 = np.array([1,1,1])\n",
    "b2 = np.array([0,1,2])\n",
    "B = np.array([[1,0],[1,1],[1,2]])\n",
    "lambda_ = inv(B.T@B)@B.T@x\n",
    "print(\"lambda\",lambda_)\n",
    "pi_u_x = lambda_[0]*b1+lambda_[1]*b2\n",
    "print(\"pi_u_x is:\",pi_u_x)\n",
    "print(\"projection matrix is:1/6*\",6*B@inv(B.T@B)@B.T)"
   ]
  },
  {
   "cell_type": "code",
   "execution_count": 99,
   "metadata": {},
   "outputs": [
    {
     "name": "stdout",
     "output_type": "stream",
     "text": [
      "lambda [3. 2.]\n",
      "pi_u_x is: [3. 2. 2.]\n",
      "projection matrix is:1/6* [[6. 0. 0.]\n",
      " [0. 3. 3.]\n",
      " [0. 3. 3.]]\n"
     ]
    }
   ],
   "source": [
    "#ex2\n",
    "from numpy.linalg import inv\n",
    "x = np.array([3,2,2])\n",
    "b1 = np.array([1,0,0])\n",
    "b2 = np.array([0,1,1])\n",
    "B = np.array([[1,0],[0,1],[0,1]])\n",
    "lambda_ = inv(B.T@B)@B.T@x\n",
    "print(\"lambda\",lambda_)\n",
    "pi_u_x = lambda_[0]*b1+lambda_[1]*b2\n",
    "print(\"pi_u_x is:\",pi_u_x)\n",
    "print(\"projection matrix is:1/6*\",6*B@inv(B.T@B)@B.T)"
   ]
  },
  {
   "cell_type": "code",
   "execution_count": 119,
   "metadata": {},
   "outputs": [
    {
     "name": "stdout",
     "output_type": "stream",
     "text": [
      "lambda [10. -6.]\n",
      "pi_u_x [10.  4. -2.]\n",
      "2160.0\n",
      "[ 5.  2. -1.]\n"
     ]
    }
   ],
   "source": [
    "#ex3\n",
    "from numpy.linalg import inv\n",
    "x = np.array([12,0,0])\n",
    "b1 = np.array([1,1,1])\n",
    "b2 = np.array([0,1,2])\n",
    "B = np.array([[1,0],[1,1],[1,2]])\n",
    "lambda_ = inv(B.T@B)@B.T@x\n",
    "print(\"lambda\",lambda_)\n",
    "pi_u_x = lambda_[0]*b1+lambda_[1]*b2\n",
    "print(\"pi_u_x\",pi_u_x)\n",
    "sqrt = np.sqrt(6)\n",
    "b = sqrt*np.array([-10,-4,2])\n",
    "print(b@b.T/b.T@b)\n",
    "print(1/(720*3*2)*(b@b.T/b.T@b)*pi_u_x)"
   ]
  },
  {
   "cell_type": "markdown",
   "metadata": {},
   "source": [
    "## Asig"
   ]
  },
  {
   "cell_type": "code",
   "execution_count": 124,
   "metadata": {},
   "outputs": [],
   "source": [
    "def projection_matrix_1d(b):\n",
    "    \"\"\"Compute the projection matrix onto the space spanned by `b`\n",
    "    Args:\n",
    "        b: ndarray of dimension (D,), the basis for the subspace\n",
    "    \n",
    "    Returns:\n",
    "        P: the projection matrix\n",
    "    \"\"\"\n",
    "    D, = b.shape\n",
    "    P = np.dot(b,b)/np.outer(b,b)\n",
    "    return P"
   ]
  },
  {
   "cell_type": "code",
   "execution_count": null,
   "metadata": {},
   "outputs": [],
   "source": []
  }
 ],
 "metadata": {
  "kernelspec": {
   "display_name": "Python 3",
   "language": "python",
   "name": "python3"
  },
  "language_info": {
   "codemirror_mode": {
    "name": "ipython",
    "version": 3
   },
   "file_extension": ".py",
   "mimetype": "text/x-python",
   "name": "python",
   "nbconvert_exporter": "python",
   "pygments_lexer": "ipython3",
   "version": "3.6.4"
  }
 },
 "nbformat": 4,
 "nbformat_minor": 2
}
